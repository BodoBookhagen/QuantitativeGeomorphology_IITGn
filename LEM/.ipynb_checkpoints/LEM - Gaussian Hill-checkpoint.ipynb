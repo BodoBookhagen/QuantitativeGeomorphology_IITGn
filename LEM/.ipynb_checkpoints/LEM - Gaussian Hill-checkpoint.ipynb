{
 "cells": [
  {
   "cell_type": "markdown",
   "metadata": {},
   "source": [
    "# Landscape Evolution Modeling - Gaussian Hill\n",
    "**Bodo Bookhagen**\n",
    "For a more detailed introduction and tutorials, please see the [landlab](https://github.com/landlab/landlab), [landlab tutorial](https://nbviewer.jupyter.org/github/landlab/tutorials/blob/master/component_tutorial/component_tutorial.ipynb), and [landlab documentation](https://landlab.readthedocs.io/en/master/) websites.\n",
    "\n",
    "We will use a Gaussian Hill (as used before) and simulate erosion processes on the Gaussian Hill. We first need to generate a grid and import the Gaussian Hill into the format that can be understand by Landlab. With `RasterModelGrid` we are generating an empty grid with $nxn$ pixels and a node-spacing of $node_spacing = 5/n$ - because our Gaussian Hill is centered on 0 and runs from -2.5 to 2.5. We also fill the model grid (mg) with zeros (`add_zeros`) and call this elevation.\n"
   ]
  },
  {
   "cell_type": "code",
   "execution_count": 12,
   "metadata": {},
   "outputs": [],
   "source": [
    "import numpy as np\n",
    "from matplotlib import pyplot as pl\n",
    "\n",
    "from landlab import RasterModelGrid\n",
    "n=111\n",
    "node_spacing = 5/n\n",
    "mg = RasterModelGrid((n, n), node_spacing)\n",
    "z = mg.add_zeros('node', 'topographic__elevation')"
   ]
  },
  {
   "cell_type": "markdown",
   "metadata": {},
   "source": [
    "mg is now a grid object with 111*111 nodes and 12321 (111*111) nodes and (111*(111-1)*2) links."
   ]
  },
  {
   "cell_type": "code",
   "execution_count": 7,
   "metadata": {},
   "outputs": [
    {
     "data": {
      "text/plain": [
       "111"
      ]
     },
     "execution_count": 7,
     "metadata": {},
     "output_type": "execute_result"
    }
   ],
   "source": [
    "mg.number_of_node_columns"
   ]
  },
  {
   "cell_type": "code",
   "execution_count": 8,
   "metadata": {},
   "outputs": [
    {
     "data": {
      "text/plain": [
       "12321"
      ]
     },
     "execution_count": 8,
     "metadata": {},
     "output_type": "execute_result"
    }
   ],
   "source": [
    "mg.number_of_nodes"
   ]
  },
  {
   "cell_type": "code",
   "execution_count": 9,
   "metadata": {},
   "outputs": [
    {
     "data": {
      "text/plain": [
       "24420"
      ]
     },
     "execution_count": 9,
     "metadata": {},
     "output_type": "execute_result"
    }
   ],
   "source": [
    "mg.number_of_links"
   ]
  },
  {
   "cell_type": "markdown",
   "metadata": {},
   "source": [
    "Let's create the Gaussian Hill with n=111 elements (111x111)."
   ]
  },
  {
   "cell_type": "code",
   "execution_count": 13,
   "metadata": {},
   "outputs": [
    {
     "data": {
      "text/plain": [
       "array([ 0.,  0.,  0., ...,  0.,  0.,  0.])"
      ]
     },
     "execution_count": 13,
     "metadata": {},
     "output_type": "execute_result"
    }
   ],
   "source": []
  },
  {
   "cell_type": "code",
   "execution_count": 10,
   "metadata": {},
   "outputs": [],
   "source": [
    "def gaussian_hill_elevation(n, b = 2.5):\n",
    "    x, y = np.meshgrid(np.linspace(-b,b,n),\n",
    "                       np.linspace(-b,b,n))\n",
    "    z = np.exp(-x*x-y*y)\n",
    "    return (x, y, z)\n",
    "\n",
    "x,y,z = gaussian_hill_elevation(n)"
   ]
  },
  {
   "cell_type": "markdown",
   "metadata": {},
   "source": [
    "And let's fill the z (height) variable into the model grid"
   ]
  },
  {
   "cell_type": "code",
   "execution_count": null,
   "metadata": {},
   "outputs": [],
   "source": [
    "mg.add_field('node', 'elevation', z, units-'m', copy-True, clobber-False)"
   ]
  },
  {
   "cell_type": "code",
   "execution_count": null,
   "metadata": {},
   "outputs": [],
   "source": []
  }
 ],
 "metadata": {
  "kernelspec": {
   "display_name": "Python 3",
   "language": "python",
   "name": "python3"
  },
  "language_info": {
   "codemirror_mode": {
    "name": "ipython",
    "version": 3
   },
   "file_extension": ".py",
   "mimetype": "text/x-python",
   "name": "python",
   "nbconvert_exporter": "python",
   "pygments_lexer": "ipython3",
   "version": "3.8.1"
  }
 },
 "nbformat": 4,
 "nbformat_minor": 4
}
